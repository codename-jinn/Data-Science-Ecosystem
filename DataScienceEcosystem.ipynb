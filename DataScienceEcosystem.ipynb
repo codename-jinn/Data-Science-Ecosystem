{
 "cells": [
  {
   "cell_type": "markdown",
   "id": "01a87c44-f98f-4d64-9ddc-6e5cca12c840",
   "metadata": {},
   "source": [
    "# Data Science Tools and Ecosystem"
   ]
  },
  {
   "cell_type": "markdown",
   "id": "0ed80f30-78d6-4bd5-a392-3ceaf36fc728",
   "metadata": {},
   "source": [
    "In this notebook, various Data Science Tools are listed though which one can easily be capable to understand the basic knowledge of the Data Science Tools and Ecosystem.As the Jupyter notebook deals with different languages, here python language is used in this Data Science and Ecosystem notebook."
   ]
  },
  {
   "cell_type": "markdown",
   "id": "6bf1f496-d5b5-4059-bdd8-92fb5b99f162",
   "metadata": {},
   "source": [
    "### Some of the popular languages that the Data Scientists uses are listed below :-\n",
    "1. Python\n",
    "2. R\n",
    "3. Julia\n",
    "4. Java\n",
    "5. Scala"
   ]
  },
  {
   "cell_type": "markdown",
   "id": "ac0b3c09-b74a-4577-b33d-0e24a133bfa3",
   "metadata": {},
   "source": [
    "### Libraries that are commonly used by the Data Scienctists are :-\n",
    "- **For Scientific computing :** Pandas, Numpy\n",
    "- **For visualization :** Seaborn, Matplotlib\n",
    "- **For ML & Deep Learning :** Scikit-learn, Keras\n",
    "- **For Deep learning :** Tensorflow, Pytorch"
   ]
  },
  {
   "cell_type": "markdown",
   "id": "15fac9a3-e2f7-4274-b1f5-fdf4374e5149",
   "metadata": {},
   "source": [
    "|**Data Science Tools**|\n",
    "| -------------------- |\n",
    "| Jupyter lab |\n",
    "| Jupyter notebooks |\n",
    "| R Studio |\n",
    "\n"
   ]
  },
  {
   "cell_type": "markdown",
   "id": "5c19877a-0b15-4b5a-a59c-1f06ba8bee92",
   "metadata": {},
   "source": [
    "### There are a few examples of evaluating arithmetic expressions in Python are given below :-"
   ]
  },
  {
   "cell_type": "code",
   "execution_count": 3,
   "id": "7730df3c-9b9b-4e44-b3c4-48705df194f4",
   "metadata": {
    "tags": []
   },
   "outputs": [
    {
     "data": {
      "text/plain": [
       "17"
      ]
     },
     "execution_count": 3,
     "metadata": {},
     "output_type": "execute_result"
    }
   ],
   "source": [
    "# This a simple arithmetic expression to mutiply then add integers\n",
    "\n",
    "(3*4)+5"
   ]
  },
  {
   "cell_type": "code",
   "execution_count": 4,
   "id": "b97b2170-4aec-49e3-8ad1-8b1ee34c9607",
   "metadata": {
    "tags": []
   },
   "outputs": [
    {
     "name": "stdout",
     "output_type": "stream",
     "text": [
      "3.3333333333333335\n"
     ]
    }
   ],
   "source": [
    "# Here 200 minutes is converted into hours\n",
    "\n",
    "min = 200\n",
    "hours = min/60\n",
    "print(hours)"
   ]
  },
  {
   "cell_type": "markdown",
   "id": "ba0a5e17-a46a-4a8c-88f5-75751d1d33cd",
   "metadata": {},
   "source": [
    "**Objectives:**\n",
    "+ Popular languages used in Data Science\n",
    "+ Commonly used libraries by Data Scientists\n",
    "+ Some Data Science Tools\n",
    "+ Some examples of arithmetic expressions in Python like\n",
    "  1. multiply then add integers\n",
    "  2. conversion of minutes into hours"
   ]
  },
  {
   "cell_type": "markdown",
   "id": "110c9b61-5e0b-4502-980c-22051003b333",
   "metadata": {},
   "source": [
    "## Author\n",
    "Mohammad Areeb"
   ]
  }
 ],
 "metadata": {
  "kernelspec": {
   "display_name": "Python",
   "language": "python",
   "name": "conda-env-python-py"
  },
  "language_info": {
   "codemirror_mode": {
    "name": "ipython",
    "version": 3
   },
   "file_extension": ".py",
   "mimetype": "text/x-python",
   "name": "python",
   "nbconvert_exporter": "python",
   "pygments_lexer": "ipython3",
   "version": "3.7.12"
  }
 },
 "nbformat": 4,
 "nbformat_minor": 5
}
